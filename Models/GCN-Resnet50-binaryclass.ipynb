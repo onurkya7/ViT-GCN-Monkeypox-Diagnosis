{
 "cells": [
  {
   "cell_type": "code",
   "execution_count": 1,
   "id": "uHLDlM_pGVJN",
   "metadata": {
    "colab": {
     "base_uri": "https://localhost:8080/"
    },
    "executionInfo": {
     "elapsed": 26862,
     "status": "ok",
     "timestamp": 1724063218405,
     "user": {
      "displayName": "Hüseyin Alperen Dağdögen",
      "userId": "15964399789675585142"
     },
     "user_tz": -180
    },
    "id": "uHLDlM_pGVJN",
    "outputId": "2e32a31d-9ce3-41a4-9f55-cbab14a107b8"
   },
   "outputs": [
    {
     "name": "stdout",
     "output_type": "stream",
     "text": [
      "Mounted at /content/drive\n"
     ]
    }
   ],
   "source": [
    "from google.colab import drive\n",
    "drive.mount('/content/drive')"
   ]
  },
  {
   "cell_type": "code",
   "execution_count": 2,
   "id": "jBCdqIKPGjwF",
   "metadata": {
    "colab": {
     "base_uri": "https://localhost:8080/"
    },
    "executionInfo": {
     "elapsed": 16183,
     "status": "ok",
     "timestamp": 1724063234583,
     "user": {
      "displayName": "Hüseyin Alperen Dağdögen",
      "userId": "15964399789675585142"
     },
     "user_tz": -180
    },
    "id": "jBCdqIKPGjwF",
    "outputId": "d4d50df9-c850-40e7-926b-3fa5c983f821"
   },
   "outputs": [
    {
     "name": "stdout",
     "output_type": "stream",
     "text": [
      "Collecting torch_geometric\n",
      "  Downloading torch_geometric-2.5.3-py3-none-any.whl.metadata (64 kB)\n",
      "\u001b[?25l     \u001b[90m━━━━━━━━━━━━━━━━━━━━━━━━━━━━━━━━━━━━━━━━\u001b[0m \u001b[32m0.0/64.2 kB\u001b[0m \u001b[31m?\u001b[0m eta \u001b[36m-:--:--\u001b[0m\r\u001b[2K     \u001b[90m━━━━━━━━━━━━━━━━━━━━━━━━━━━━━━━━━━━━━━━━\u001b[0m \u001b[32m64.2/64.2 kB\u001b[0m \u001b[31m3.9 MB/s\u001b[0m eta \u001b[36m0:00:00\u001b[0m\n",
      "\u001b[?25hRequirement already satisfied: tqdm in /usr/local/lib/python3.10/dist-packages (from torch_geometric) (4.66.5)\n",
      "Requirement already satisfied: numpy in /usr/local/lib/python3.10/dist-packages (from torch_geometric) (1.26.4)\n",
      "Requirement already satisfied: scipy in /usr/local/lib/python3.10/dist-packages (from torch_geometric) (1.13.1)\n",
      "Requirement already satisfied: fsspec in /usr/local/lib/python3.10/dist-packages (from torch_geometric) (2024.6.1)\n",
      "Requirement already satisfied: jinja2 in /usr/local/lib/python3.10/dist-packages (from torch_geometric) (3.1.4)\n",
      "Requirement already satisfied: aiohttp in /usr/local/lib/python3.10/dist-packages (from torch_geometric) (3.10.2)\n",
      "Requirement already satisfied: requests in /usr/local/lib/python3.10/dist-packages (from torch_geometric) (2.32.3)\n",
      "Requirement already satisfied: pyparsing in /usr/local/lib/python3.10/dist-packages (from torch_geometric) (3.1.2)\n",
      "Requirement already satisfied: scikit-learn in /usr/local/lib/python3.10/dist-packages (from torch_geometric) (1.3.2)\n",
      "Requirement already satisfied: psutil>=5.8.0 in /usr/local/lib/python3.10/dist-packages (from torch_geometric) (5.9.5)\n",
      "Requirement already satisfied: aiohappyeyeballs>=2.3.0 in /usr/local/lib/python3.10/dist-packages (from aiohttp->torch_geometric) (2.3.5)\n",
      "Requirement already satisfied: aiosignal>=1.1.2 in /usr/local/lib/python3.10/dist-packages (from aiohttp->torch_geometric) (1.3.1)\n",
      "Requirement already satisfied: attrs>=17.3.0 in /usr/local/lib/python3.10/dist-packages (from aiohttp->torch_geometric) (24.2.0)\n",
      "Requirement already satisfied: frozenlist>=1.1.1 in /usr/local/lib/python3.10/dist-packages (from aiohttp->torch_geometric) (1.4.1)\n",
      "Requirement already satisfied: multidict<7.0,>=4.5 in /usr/local/lib/python3.10/dist-packages (from aiohttp->torch_geometric) (6.0.5)\n",
      "Requirement already satisfied: yarl<2.0,>=1.0 in /usr/local/lib/python3.10/dist-packages (from aiohttp->torch_geometric) (1.9.4)\n",
      "Requirement already satisfied: async-timeout<5.0,>=4.0 in /usr/local/lib/python3.10/dist-packages (from aiohttp->torch_geometric) (4.0.3)\n",
      "Requirement already satisfied: MarkupSafe>=2.0 in /usr/local/lib/python3.10/dist-packages (from jinja2->torch_geometric) (2.1.5)\n",
      "Requirement already satisfied: charset-normalizer<4,>=2 in /usr/local/lib/python3.10/dist-packages (from requests->torch_geometric) (3.3.2)\n",
      "Requirement already satisfied: idna<4,>=2.5 in /usr/local/lib/python3.10/dist-packages (from requests->torch_geometric) (3.7)\n",
      "Requirement already satisfied: urllib3<3,>=1.21.1 in /usr/local/lib/python3.10/dist-packages (from requests->torch_geometric) (2.0.7)\n",
      "Requirement already satisfied: certifi>=2017.4.17 in /usr/local/lib/python3.10/dist-packages (from requests->torch_geometric) (2024.7.4)\n",
      "Requirement already satisfied: joblib>=1.1.1 in /usr/local/lib/python3.10/dist-packages (from scikit-learn->torch_geometric) (1.4.2)\n",
      "Requirement already satisfied: threadpoolctl>=2.0.0 in /usr/local/lib/python3.10/dist-packages (from scikit-learn->torch_geometric) (3.5.0)\n",
      "Downloading torch_geometric-2.5.3-py3-none-any.whl (1.1 MB)\n",
      "\u001b[2K   \u001b[90m━━━━━━━━━━━━━━━━━━━━━━━━━━━━━━━━━━━━━━━━\u001b[0m \u001b[32m1.1/1.1 MB\u001b[0m \u001b[31m10.5 MB/s\u001b[0m eta \u001b[36m0:00:00\u001b[0m\n",
      "\u001b[?25hInstalling collected packages: torch_geometric\n",
      "Successfully installed torch_geometric-2.5.3\n"
     ]
    }
   ],
   "source": [
    "!pip install torch_geometric"
   ]
  },
  {
   "cell_type": "code",
   "execution_count": null,
   "id": "37371e73-7060-467b-97d5-b0e2fc1fccda",
   "metadata": {
    "id": "37371e73-7060-467b-97d5-b0e2fc1fccda"
   },
   "outputs": [],
   "source": [
    "import torch\n",
    "import torch.nn as nn\n",
    "import torch.optim as optim\n",
    "import torch.nn.functional as F\n",
    "from torch_geometric.data import Data, Batch\n",
    "from torch_geometric.nn import SAGEConv\n",
    "from torchvision import transforms\n",
    "from torchvision.datasets import ImageFolder\n",
    "from torch.utils.data import DataLoader\n",
    "from torchvision.models import resnet50, ResNet50_Weights\n",
    "from sklearn.metrics import confusion_matrix, roc_curve, auc, f1_score, precision_score, recall_score\n",
    "import matplotlib.pyplot as plt\n",
    "import seaborn as sns\n",
    "import numpy as np\n"
   ]
  },
  {
   "cell_type": "code",
   "execution_count": null,
   "id": "a930b2da-4d8b-452e-8660-37b98520bb9e",
   "metadata": {
    "id": "a930b2da-4d8b-452e-8660-37b98520bb9e"
   },
   "outputs": [],
   "source": [
    "\n",
    "# Focal Loss Implementation\n",
    "class FocalLoss(nn.Module):\n",
    "    def __init__(self, gamma=2, alpha=None, size_average=True):\n",
    "        super(FocalLoss, self).__init__()\n",
    "        self.gamma = gamma\n",
    "        self.alpha = alpha\n",
    "        if isinstance(alpha, (float, int)):\n",
    "            self.alpha = torch.Tensor([alpha, 1-alpha])\n",
    "        if isinstance(alpha, list):\n",
    "            self.alpha = torch.Tensor(alpha)\n",
    "        self.size_average = size_average\n",
    "\n",
    "    def forward(self, input, target):\n",
    "        if input.dim() > 2:\n",
    "            input = input.view(input.size(0), input.size(1), -1)\n",
    "            input = input.transpose(1, 2)\n",
    "            input = input.contiguous().view(-1, input.size(2))\n",
    "        target = target.view(-1, 1)\n",
    "        logpt = F.log_softmax(input, dim=1)\n",
    "        logpt = logpt.gather(1, target)\n",
    "        logpt = logpt.view(-1)\n",
    "        pt = logpt.data.exp()\n",
    "\n",
    "        if self.alpha is not None:\n",
    "            if self.alpha.type() != input.data.type():\n",
    "                self.alpha = self.alpha.type_as(input.data)\n",
    "            at = self.alpha.gather(0, target.data.view(-1))\n",
    "            logpt = logpt * at\n",
    "\n",
    "        loss = -1 * (1 - pt) ** self.gamma * logpt\n",
    "        if self.size_average:\n",
    "            return loss.mean()\n",
    "        else:\n",
    "            return loss.sum()\n"
   ]
  },
  {
   "cell_type": "code",
   "execution_count": null,
   "id": "35471c01-e272-4c8c-8e21-754cb6ba319d",
   "metadata": {
    "id": "35471c01-e272-4c8c-8e21-754cb6ba319d"
   },
   "outputs": [],
   "source": [
    "\n",
    "# CNN-GNN Hybrid Model\n",
    "class CNN_GNN(nn.Module):\n",
    "    def __init__(self, num_classes):\n",
    "        super(CNN_GNN, self).__init__()\n",
    "        self.cnn = resnet50(weights=ResNet50_Weights.DEFAULT) # Lighter CNN\n",
    "        self.cnn.fc = nn.Linear(self.cnn.fc.in_features, 256)  # Reduce dimension\n",
    "        self.conv1 = SAGEConv(256, 128)\n",
    "        self.conv2 = SAGEConv(128, num_classes)\n",
    "\n",
    "    def forward(self, x, edge_index, batch):\n",
    "        x = self.cnn(x)  # CNN feature extraction\n",
    "        x = self.conv1(x, edge_index)  # GNN Layer 1\n",
    "        x = F.relu(x)\n",
    "        x = F.dropout(x, training=self.training)\n",
    "        x = self.conv2(x, edge_index)  # GNN Layer 2\n",
    "        return F.log_softmax(x, dim=1)\n",
    "\n",
    "# Data Preparation with Augmentation\n",
    "transform = transforms.Compose([\n",
    "    transforms.Resize((224, 224)),\n",
    "    transforms.RandomHorizontalFlip(),\n",
    "    transforms.RandomRotation(10),\n",
    "    transforms.ColorJitter(brightness=0.2, contrast=0.2, saturation=0.2, hue=0.1),\n",
    "    transforms.ToTensor(),\n",
    "    transforms.Normalize(mean=[0.485, 0.456, 0.406], std=[0.229, 0.224, 0.225]),\n",
    "])\n"
   ]
  },
  {
   "cell_type": "code",
   "execution_count": null,
   "id": "cd3ac12e-ca48-4fd2-afc8-5e78ba0f4cb8",
   "metadata": {
    "id": "cd3ac12e-ca48-4fd2-afc8-5e78ba0f4cb8"
   },
   "outputs": [],
   "source": [
    "\n",
    "data_dir = \"/content/drive/MyDrive/MPox/MonkeyPoxSkinLesionDataset\"\n",
    "dataset = ImageFolder(root=data_dir, transform=transform)\n",
    "data_loader = DataLoader(dataset, batch_size=64, shuffle=True)  # Increased batch size\n",
    "class_names = dataset.classes;\n",
    "\n",
    "def create_graph_data(features, labels=None):\n",
    "    num_nodes = features.size(0)\n",
    "    edge_index = torch.combinations(torch.arange(num_nodes), r=2).t()\n",
    "    x = features.clone().detach()\n",
    "    y = labels.clone().detach() if labels is not None else None\n",
    "    return Data(x=x, edge_index=edge_index, y=y)\n",
    "\n",
    "# Focal Loss with adjusted alpha\n",
    "criterion = FocalLoss(gamma=2, alpha=[0.25] * len(class_names))\n"
   ]
  },
  {
   "cell_type": "code",
   "execution_count": null,
   "id": "a953369c-87e7-4823-9a52-c41a17e9c245",
   "metadata": {
    "colab": {
     "base_uri": "https://localhost:8080/"
    },
    "executionInfo": {
     "elapsed": 311,
     "status": "ok",
     "timestamp": 1724056151997,
     "user": {
      "displayName": "Hüseyin Alperen Dağdögen",
      "userId": "15964399789675585142"
     },
     "user_tz": -180
    },
    "id": "a953369c-87e7-4823-9a52-c41a17e9c245",
    "outputId": "13ee4d42-2d86-43a9-e4c7-00029425b49a"
   },
   "outputs": [
    {
     "data": {
      "text/plain": [
       "['Monkeypox', 'Others']"
      ]
     },
     "execution_count": 7,
     "metadata": {},
     "output_type": "execute_result"
    }
   ],
   "source": [
    "class_names"
   ]
  },
  {
   "cell_type": "code",
   "execution_count": null,
   "id": "545d7a99-f59a-4414-842d-194f791f3021",
   "metadata": {
    "colab": {
     "base_uri": "https://localhost:8080/"
    },
    "executionInfo": {
     "elapsed": 5784,
     "status": "ok",
     "timestamp": 1724056160155,
     "user": {
      "displayName": "Hüseyin Alperen Dağdögen",
      "userId": "15964399789675585142"
     },
     "user_tz": -180
    },
    "id": "545d7a99-f59a-4414-842d-194f791f3021",
    "outputId": "fb86b420-6a46-4e38-806a-6346a694440e"
   },
   "outputs": [
    {
     "name": "stderr",
     "output_type": "stream",
     "text": [
      "Downloading: \"https://download.pytorch.org/models/resnet50-11ad3fa6.pth\" to /root/.cache/torch/hub/checkpoints/resnet50-11ad3fa6.pth\n",
      "100%|██████████| 97.8M/97.8M [00:01<00:00, 59.3MB/s]\n"
     ]
    }
   ],
   "source": [
    "\n",
    "device = torch.device(\"cuda\" if torch.cuda.is_available() else \"cpu\")\n",
    "model = CNN_GNN(num_classes=len(class_names)).to(device)\n",
    "optimizer = optim.AdamW(model.parameters(), lr=1e-4, weight_decay=1e-4)\n",
    "scheduler = optim.lr_scheduler.StepLR(optimizer, step_size=5, gamma=0.1)\n"
   ]
  },
  {
   "cell_type": "code",
   "execution_count": null,
   "id": "6f4ac18c-141e-4fb1-a75c-4fdac97955e8",
   "metadata": {
    "colab": {
     "base_uri": "https://localhost:8080/"
    },
    "executionInfo": {
     "elapsed": 407,
     "status": "ok",
     "timestamp": 1724056162047,
     "user": {
      "displayName": "Hüseyin Alperen Dağdögen",
      "userId": "15964399789675585142"
     },
     "user_tz": -180
    },
    "id": "6f4ac18c-141e-4fb1-a75c-4fdac97955e8",
    "outputId": "7855c6de-e51c-4f87-bfa1-820ecd98deed"
   },
   "outputs": [
    {
     "data": {
      "text/plain": [
       "device(type='cuda')"
      ]
     },
     "execution_count": 9,
     "metadata": {},
     "output_type": "execute_result"
    }
   ],
   "source": [
    "device"
   ]
  },
  {
   "cell_type": "code",
   "execution_count": null,
   "id": "81ae2aff-967b-46ab-9ff1-fac2f813bf49",
   "metadata": {
    "id": "81ae2aff-967b-46ab-9ff1-fac2f813bf49"
   },
   "outputs": [],
   "source": [
    "from sklearn.metrics import confusion_matrix, roc_curve, auc\n",
    "import matplotlib.pyplot as plt\n",
    "import seaborn as sns\n",
    "import numpy as np\n"
   ]
  },
  {
   "cell_type": "code",
   "execution_count": null,
   "id": "291e2e18-46d2-41a1-820f-e38eca588951",
   "metadata": {
    "id": "291e2e18-46d2-41a1-820f-e38eca588951"
   },
   "outputs": [],
   "source": [
    "# Training Loop\n",
    "def train(epochs=20):\n",
    "    train_losses = []\n",
    "    val_losses = []\n",
    "    train_accuracies = []\n",
    "    val_accuracies = []\n",
    "\n",
    "    model.train()\n",
    "    for epoch in range(epochs):\n",
    "        running_loss = 0.0\n",
    "        correct_train = 0\n",
    "        total_train = 0\n",
    "\n",
    "        for i, batch in enumerate(data_loader):\n",
    "            images, labels = batch\n",
    "            images, labels = images.to(device), labels.to(device)\n",
    "\n",
    "            data = create_graph_data(images, labels)\n",
    "            data = data.to(device)\n",
    "\n",
    "            optimizer.zero_grad()\n",
    "            output = model(data.x, data.edge_index, data.batch)\n",
    "            loss = criterion(output, data.y)\n",
    "            loss.backward()\n",
    "            optimizer.step()\n",
    "\n",
    "            running_loss += loss.item()\n",
    "\n",
    "            _, predicted = torch.max(output.data, 1)\n",
    "            total_train += labels.size(0)\n",
    "            correct_train += (predicted == labels).sum().item()\n",
    "\n",
    "        scheduler.step()\n",
    "        avg_loss = running_loss / len(data_loader)\n",
    "        train_losses.append(avg_loss)\n",
    "        train_accuracy = 100 * correct_train / total_train\n",
    "        train_accuracies.append(train_accuracy)\n",
    "\n",
    "        print(f\"Epoch [{epoch+1}/{epochs}], Loss: {avg_loss:.6f}, Accuracy: {train_accuracy:.2f}%\")\n",
    "\n",
    "        # Validation Accuracy and Loss Calculation\n",
    "        val_loss, val_accuracy = validate()\n",
    "        val_losses.append(val_loss)\n",
    "        val_accuracies.append(val_accuracy)\n",
    "\n",
    "    # Plotting graphs after training\n",
    "    plot_training_graphs(train_losses, val_losses, train_accuracies, val_accuracies)\n"
   ]
  },
  {
   "cell_type": "code",
   "execution_count": null,
   "id": "19cf35b9-43fd-436f-b775-ffc768c1def1",
   "metadata": {
    "id": "19cf35b9-43fd-436f-b775-ffc768c1def1"
   },
   "outputs": [],
   "source": [
    "def validate():\n",
    "    model.eval()\n",
    "    correct_val = 0\n",
    "    total_val = 0\n",
    "    running_loss = 0.0\n",
    "    with torch.no_grad():\n",
    "        for images, labels in data_loader:\n",
    "            images, labels = images.to(device), labels.to(device)\n",
    "            data = create_graph_data(images, labels)\n",
    "            data = data.to(device)\n",
    "\n",
    "            output = model(data.x, data.edge_index, data.batch)\n",
    "            loss = criterion(output, labels)\n",
    "            running_loss += loss.item()\n",
    "\n",
    "            _, predicted = torch.max(output.data, 1)\n",
    "            total_val += labels.size(0)\n",
    "            correct_val += (predicted == labels).sum().item()\n",
    "\n",
    "    avg_loss = running_loss / len(data_loader)\n",
    "    accuracy = 100 * correct_val / total_val\n",
    "    return avg_loss, accuracy\n"
   ]
  },
  {
   "cell_type": "code",
   "execution_count": null,
   "id": "cd124ddf-a6bd-42d3-89e6-5107a5176f0d",
   "metadata": {
    "id": "cd124ddf-a6bd-42d3-89e6-5107a5176f0d"
   },
   "outputs": [],
   "source": [
    "def plot_roc_curve():\n",
    "    model.eval()\n",
    "    all_labels = []\n",
    "    all_probs = []\n",
    "    with torch.no_grad():\n",
    "        for images, labels in data_loader:\n",
    "            images, labels = images.to(device), labels.to(device)\n",
    "            data = create_graph_data(images, labels)\n",
    "            data = data.to(device)\n",
    "\n",
    "            output = model(data.x, data.edge_index, data.batch)\n",
    "            probs = F.softmax(output, dim=1)\n",
    "            all_labels.extend(labels.cpu().numpy())\n",
    "            all_probs.extend(probs.cpu().numpy())\n",
    "\n",
    "    all_labels = np.array(all_labels)\n",
    "    all_probs = np.array(all_probs)\n",
    "\n",
    "    fpr = dict()\n",
    "    tpr = dict()\n",
    "    roc_auc = dict()\n",
    "\n",
    "    for i in range(len(class_names)):\n",
    "        fpr[i], tpr[i], _ = roc_curve(all_labels == i, all_probs[:, i])\n",
    "        roc_auc[i] = auc(fpr[i], tpr[i])\n",
    "\n",
    "    plt.figure()\n",
    "    for i in range(len(class_names)):\n",
    "        plt.plot(fpr[i], tpr[i], label=f'Class {class_names[i]} (area = {roc_auc[i]:.2f})')\n",
    "\n",
    "    plt.plot([0, 1], [0, 1], 'k--')\n",
    "    plt.xlim([0.0, 1.0])\n",
    "    plt.ylim([0.0, 1.05])\n",
    "    plt.xlabel('False Positive Rate')\n",
    "    plt.ylabel('True Positive Rate')\n",
    "    plt.title('Receiver Operating Characteristic')\n",
    "    plt.legend(loc=\"lower right\")\n",
    "    plt.show()\n",
    "\n",
    "def plot_confusion_matrix():\n",
    "    model.eval()\n",
    "    all_labels = []\n",
    "    all_predictions = []\n",
    "    with torch.no_grad():\n",
    "        for images, labels in data_loader:\n",
    "            images, labels = images.to(device), labels.to(device)\n",
    "            data = create_graph_data(images, labels)\n",
    "            data = data.to(device)\n",
    "\n",
    "            output = model(data.x, data.edge_index, data.batch)\n",
    "            _, predicted = torch.max(output.data, 1)\n",
    "            all_labels.extend(labels.cpu().numpy())\n",
    "            all_predictions.extend(predicted.cpu().numpy())\n",
    "\n",
    "    cm = confusion_matrix(all_labels, all_predictions)\n",
    "    plt.figure(figsize=(10, 8))\n",
    "    sns.heatmap(cm, annot=True, fmt=\"d\", cmap=\"Blues\", xticklabels=class_names, yticklabels=class_names)\n",
    "    plt.xlabel('Predicted')\n",
    "    plt.ylabel('True')\n",
    "    plt.title('Confusion Matrix')\n",
    "    plt.show()\n"
   ]
  },
  {
   "cell_type": "code",
   "execution_count": null,
   "id": "32dc611a-7ff6-4043-a4b1-a820fb33ac8f",
   "metadata": {
    "id": "32dc611a-7ff6-4043-a4b1-a820fb33ac8f"
   },
   "outputs": [],
   "source": [
    "def plot_training_graphs(train_losses, val_losses, train_accuracies, val_accuracies):\n",
    "    epochs = range(1, len(train_losses) + 1)\n",
    "\n",
    "    plt.figure()\n",
    "    plt.plot(epochs, train_losses, 'r', label='Training loss')\n",
    "    plt.plot(epochs, val_losses, 'b', label='Validation loss')\n",
    "    plt.title('Training and Validation Loss')\n",
    "    plt.legend()\n",
    "    plt.show()\n",
    "\n",
    "    plt.figure()\n",
    "    plt.plot(epochs, train_accuracies, 'r', label='Training accuracy')\n",
    "    plt.plot(epochs, val_accuracies, 'b', label='Validation accuracy')\n",
    "    plt.title('Training and Validation Accuracy')\n",
    "    plt.legend()\n",
    "    plt.show()\n"
   ]
  },
  {
   "cell_type": "code",
   "execution_count": null,
   "id": "86c3457e-cf96-4624-ad10-96bcc5e3a75c",
   "metadata": {
    "id": "86c3457e-cf96-4624-ad10-96bcc5e3a75c"
   },
   "outputs": [],
   "source": [
    "def calculate_metrics():\n",
    "    model.eval()\n",
    "    all_labels = []\n",
    "    all_predictions = []\n",
    "    with torch.no_grad():\n",
    "        for images, labels in data_loader:\n",
    "            images, labels = images.to(device), labels.to(device)\n",
    "            data = create_graph_data(images, labels)\n",
    "            data = data.to(device)\n",
    "\n",
    "            output = model(data.x, data.edge_index, data.batch)\n",
    "            _, predicted = torch.max(output.data, 1)\n",
    "            all_labels.extend(labels.cpu().numpy())\n",
    "            all_predictions.extend(predicted.cpu().numpy())\n",
    "\n",
    "    f1 = f1_score(all_labels, all_predictions, average='weighted')\n",
    "    precision = precision_score(all_labels, all_predictions, average='weighted')\n",
    "    recall = recall_score(all_labels, all_predictions, average='weighted')\n",
    "\n",
    "    print(f'F1 Score: {f1:.2f}')\n",
    "    print(f'Precision: {precision:.2f}')\n",
    "    print(f'Recall: {recall:.2f}')\n"
   ]
  },
  {
   "cell_type": "code",
   "execution_count": null,
   "id": "44279fc4-c742-4fdb-9d6f-cd405a255fe0",
   "metadata": {
    "id": "44279fc4-c742-4fdb-9d6f-cd405a255fe0"
   },
   "outputs": [],
   "source": [
    "# Calculate accuracy\n",
    "def calculate_accuracy():\n",
    "    correct = 0\n",
    "    total = 0\n",
    "    model.eval()\n",
    "    with torch.no_grad():\n",
    "        for images, labels in data_loader:\n",
    "            images, labels = images.to(device), labels.to(device)\n",
    "            data = create_graph_data(images)\n",
    "            data = data.to(device)\n",
    "\n",
    "            output = model(data.x, data.edge_index, data.batch)\n",
    "            _, predicted = torch.max(output.data, 1)\n",
    "            total += labels.size(0)\n",
    "            correct += (predicted == labels).sum().item()\n",
    "\n",
    "    accuracy = 100 * correct / total\n",
    "    print(f'Accuracy: {accuracy:.2f}%')"
   ]
  },
  {
   "cell_type": "code",
   "execution_count": null,
   "id": "54b97b48-f7f1-4259-b4d7-322220390947",
   "metadata": {
    "colab": {
     "base_uri": "https://localhost:8080/",
     "height": 1000
    },
    "executionInfo": {
     "elapsed": 2594044,
     "status": "ok",
     "timestamp": 1724058768832,
     "user": {
      "displayName": "Hüseyin Alperen Dağdögen",
      "userId": "15964399789675585142"
     },
     "user_tz": -180
    },
    "id": "54b97b48-f7f1-4259-b4d7-322220390947",
    "outputId": "b83e4567-9805-4aef-a521-b8807abaa332",
    "scrolled": true
   },
   "outputs": [
    {
     "name": "stdout",
     "output_type": "stream",
     "text": [
      "Epoch [1/20], Loss: 0.032012, Accuracy: 73.90%\n",
      "Epoch [2/20], Loss: 0.020518, Accuracy: 86.47%\n",
      "Epoch [3/20], Loss: 0.014433, Accuracy: 91.26%\n",
      "Epoch [4/20], Loss: 0.009351, Accuracy: 94.89%\n",
      "Epoch [5/20], Loss: 0.009588, Accuracy: 94.96%\n",
      "Epoch [6/20], Loss: 0.004397, Accuracy: 98.15%\n",
      "Epoch [7/20], Loss: 0.002061, Accuracy: 99.06%\n",
      "Epoch [8/20], Loss: 0.001569, Accuracy: 99.22%\n",
      "Epoch [9/20], Loss: 0.002035, Accuracy: 99.03%\n",
      "Epoch [10/20], Loss: 0.000923, Accuracy: 99.59%\n",
      "Epoch [11/20], Loss: 0.000980, Accuracy: 99.53%\n",
      "Epoch [12/20], Loss: 0.000811, Accuracy: 99.62%\n",
      "Epoch [13/20], Loss: 0.000775, Accuracy: 99.66%\n",
      "Epoch [14/20], Loss: 0.000673, Accuracy: 99.69%\n",
      "Epoch [15/20], Loss: 0.000641, Accuracy: 99.75%\n",
      "Epoch [16/20], Loss: 0.000609, Accuracy: 99.84%\n",
      "Epoch [17/20], Loss: 0.000541, Accuracy: 99.84%\n",
      "Epoch [18/20], Loss: 0.000813, Accuracy: 99.59%\n",
      "Epoch [19/20], Loss: 0.000698, Accuracy: 99.59%\n",
      "Epoch [20/20], Loss: 0.000647, Accuracy: 99.75%\n"
     ]
    },
    {
     "data": {
      "image/png": "[encoded data removed]",
      "text/plain": [
       "<Figure size 640x480 with 1 Axes>"
      ]
     },
     "metadata": {},
     "output_type": "display_data"
    },
    {
     "data": {
      "image/png": "[encoded data removed]",
      "text/plain": [
       "<Figure size 640x480 with 1 Axes>"
      ]
     },
     "metadata": {},
     "output_type": "display_data"
    },
    {
     "name": "stdout",
     "output_type": "stream",
     "text": [
      "Accuracy: 99.81%\n",
      "F1 Score: 1.00\n",
      "Precision: 1.00\n",
      "Recall: 1.00\n"
     ]
    }
   ],
   "source": [
    "train(epochs=20)\n",
    "calculate_accuracy()\n",
    "# F1-Score, Recall and Precision\n",
    "calculate_metrics()"
   ]
  },
  {
   "cell_type": "code",
   "execution_count": null,
   "id": "a478b7f0-763f-49cb-be40-41631da4666b",
   "metadata": {
    "colab": {
     "base_uri": "https://localhost:8080/",
     "height": 1000
    },
    "executionInfo": {
     "elapsed": 92128,
     "status": "ok",
     "timestamp": 1724060184310,
     "user": {
      "displayName": "Hüseyin Alperen Dağdögen",
      "userId": "15964399789675585142"
     },
     "user_tz": -180
    },
    "id": "a478b7f0-763f-49cb-be40-41631da4666b",
    "outputId": "2ff602ae-440b-4ff9-b9cf-ce9e5e1847b5"
   },
   "outputs": [
    {
     "data": {
      "image/png": "[encoded data removed]",
      "text/plain": [
       "<Figure size 640x480 with 1 Axes>"
      ]
     },
     "metadata": {},
     "output_type": "display_data"
    },
    {
     "data": {
      "image/png": "[encoded data removed]",
      "text/plain": [
       "<Figure size 1000x800 with 2 Axes>"
      ]
     },
     "metadata": {},
     "output_type": "display_data"
    }
   ],
   "source": [
    "plot_roc_curve()\n",
    "plot_confusion_matrix()\n"
   ]
  },
  {
   "cell_type": "code",
   "execution_count": null,
   "id": "X-k_4hRVzsyo",
   "metadata": {
    "colab": {
     "base_uri": "https://localhost:8080/"
    },
    "executionInfo": {
     "elapsed": 3,
     "status": "ok",
     "timestamp": 1724060184310,
     "user": {
      "displayName": "Hüseyin Alperen Dağdögen",
      "userId": "15964399789675585142"
     },
     "user_tz": -180
    },
    "id": "X-k_4hRVzsyo",
    "outputId": "f912abae-1bfb-42e1-d804-b7d44056f02e"
   },
   "outputs": [
    {
     "name": "stdout",
     "output_type": "stream",
     "text": [
      "Model saved to /content/drive/MyDrive/Models/pthFile/cnn_gnn_resnet50_model-two.pth\n"
     ]
    }
   ],
   "source": [
    "model_path = \"/content/drive/MyDrive/Models/pthFile/cnn_gnn_resnet50_model-two.pth\"\n",
    "torch.save(model.state_dict(), model_path)\n",
    "print(f\"Model saved to {model_path}\")"
   ]
  },
  {
   "cell_type": "code",
   "execution_count": 7,
   "id": "44JkAEKE_U1W",
   "metadata": {
    "executionInfo": {
     "elapsed": 580,
     "status": "ok",
     "timestamp": 1724063283737,
     "user": {
      "displayName": "Hüseyin Alperen Dağdögen",
      "userId": "15964399789675585142"
     },
     "user_tz": -180
    },
    "id": "44JkAEKE_U1W"
   },
   "outputs": [],
   "source": [
    "import torch\n",
    "import torch.nn as nn\n",
    "import torch.nn.functional as F\n",
    "from torch_geometric.nn import SAGEConv\n",
    "from torch_geometric.data import Dataset, Data,DataLoader\n",
    "from torchvision.models import resnet50, ResNet50_Weights\n",
    "from torchvision import transforms\n",
    "from PIL import Image\n",
    "import os\n",
    "import random\n",
    "import matplotlib.pyplot as plt\n",
    "import seaborn as sns\n",
    "from sklearn.metrics import accuracy_score, confusion_matrix, classification_report\n",
    "\n"
   ]
  },
  {
   "cell_type": "code",
   "execution_count": null,
   "id": "oc_PNk2MLNYH",
   "metadata": {
    "executionInfo": {
     "elapsed": 640,
     "status": "ok",
     "timestamp": 1724063284374,
     "user": {
      "displayName": "Hüseyin Alperen Dağdögen",
      "userId": "15964399789675585142"
     },
     "user_tz": -180
    },
    "id": "oc_PNk2MLNYH"
   },
   "outputs": [],
   "source": [
    "\n",
    "# CNN-GNN Hybrid Model\n",
    "class CNN_GNN(nn.Module):\n",
    "    def __init__(self, num_classes):\n",
    "        super(CNN_GNN, self).__init__()\n",
    "        self.cnn = resnet50(weights=ResNet50_Weights.DEFAULT) # Lighter CNN\n",
    "        self.cnn.fc = nn.Linear(self.cnn.fc.in_features, 256)  # Reduce dimension\n",
    "        self.conv1 = SAGEConv(256, 128)\n",
    "        self.conv2 = SAGEConv(128, num_classes)\n",
    "\n",
    "    def forward(self, x, edge_index, batch):\n",
    "        x = self.cnn(x)  # CNN feature extraction\n",
    "        x = self.conv1(x, edge_index)  # GNN Layer 1\n",
    "        x = F.relu(x)\n",
    "        x = F.dropout(x, training=self.training)\n",
    "        x = self.conv2(x, edge_index)  # GNN Layer 2\n",
    "        return F.log_softmax(x, dim=1)\n",
    "\n",
    "\n",
    "# Custom dataset class for loading images from subdirectories\n",
    "class ImageDataset(Dataset):\n",
    "    def __init__(self, root_dir, class_names, transform=None):\n",
    "        self.root_dir = root_dir\n",
    "        self.class_names = class_names\n",
    "        self.transform = transform\n",
    "        self.img_paths = []\n",
    "        self.labels = []\n",
    "\n",
    "        for class_idx, class_name in enumerate(class_names):\n",
    "            class_dir = os.path.join(root_dir, class_name)\n",
    "            img_names = os.listdir(class_dir)\n",
    "            random.shuffle(img_names)\n",
    "            selected_imgs = img_names[:100] \n",
    "\n",
    "            for img_name in selected_imgs:\n",
    "                img_path = os.path.join(class_dir, img_name)\n",
    "                self.img_paths.append(img_path)\n",
    "                self.labels.append(class_idx)\n",
    "\n",
    "    def __len__(self):\n",
    "        return len(self.img_paths)\n",
    "\n",
    "    def __getitem__(self, idx):\n",
    "        img_path = self.img_paths[idx]\n",
    "        label = self.labels[idx]\n",
    "        img = Image.open(img_path).convert('RGB')\n",
    "        if self.transform:\n",
    "            img = self.transform(img)\n",
    "        return img, label\n"
   ]
  },
  {
   "cell_type": "code",
   "execution_count": null,
   "id": "TuX_NTNbLS7A",
   "metadata": {
    "colab": {
     "base_uri": "https://localhost:8080/"
    },
    "executionInfo": {
     "elapsed": 23118,
     "status": "ok",
     "timestamp": 1724063307488,
     "user": {
      "displayName": "Hüseyin Alperen Dağdögen",
      "userId": "15964399789675585142"
     },
     "user_tz": -180
    },
    "id": "TuX_NTNbLS7A",
    "outputId": "9133df61-b43e-4a19-bf69-ecc1298686b2"
   },
   "outputs": [
    {
     "name": "stderr",
     "output_type": "stream",
     "text": [
      "Downloading: \"https://download.pytorch.org/models/resnet50-11ad3fa6.pth\" to /root/.cache/torch/hub/checkpoints/resnet50-11ad3fa6.pth\n",
      "100%|██████████| 97.8M/97.8M [00:02<00:00, 41.6MB/s]\n"
     ]
    }
   ],
   "source": [
    "\n",
    "# Function to create graph data from image features\n",
    "def create_graph_data(features):\n",
    "    num_nodes = features.size(0)\n",
    "    edge_index = torch.combinations(torch.arange(num_nodes), r=2).t()\n",
    "    x = features.clone().detach()\n",
    "    return Data(x=x, edge_index=edge_index)\n",
    "\n",
    "# Example root directory and class names\n",
    "root_dir = \"/content/drive/MyDrive/MPox/MonkeyPoxSkinLesionDataset\"\n",
    "class_names = ['Monkeypox', 'Others']\n",
    "\n",
    "model_path = '/content/drive/MyDrive/Models/pthFile/cnn_gnn_resnet50_model-two.pth'\n",
    "model = CNN_GNN(num_classes=len(class_names))\n",
    "model.load_state_dict(torch.load(model_path))\n",
    "model.eval()\n",
    "\n",
    "# Image transformations\n",
    "transform = transforms.Compose([\n",
    "    transforms.Resize((224, 224)),\n",
    "    transforms.ToTensor(),\n",
    "    transforms.Normalize(mean=[0.485, 0.456, 0.406], std=[0.229, 0.224, 0.225]),\n",
    "])\n"
   ]
  },
  {
   "cell_type": "code",
   "execution_count": 10,
   "id": "ES5-2JHbLWw_",
   "metadata": {
    "colab": {
     "base_uri": "https://localhost:8080/",
     "height": 680
    },
    "executionInfo": {
     "elapsed": 122792,
     "status": "ok",
     "timestamp": 1724063430272,
     "user": {
      "displayName": "Hüseyin Alperen Dağdögen",
      "userId": "15964399789675585142"
     },
     "user_tz": -180
    },
    "id": "ES5-2JHbLWw_",
    "outputId": "f1c0114e-8dff-4176-cbb9-c15b0d5e1edf"
   },
   "outputs": [
    {
     "name": "stderr",
     "output_type": "stream",
     "text": [
      "/usr/local/lib/python3.10/dist-packages/torch_geometric/deprecation.py:26: UserWarning: 'data.DataLoader' is deprecated, use 'loader.DataLoader' instead\n",
      "  warnings.warn(out)\n"
     ]
    },
    {
     "name": "stdout",
     "output_type": "stream",
     "text": [
      "Overall Accuracy: 1.00\n"
     ]
    },
    {
     "data": {
      "image/png": "[encoded data removed]",
      "text/plain": [
       "<Figure size 640x480 with 2 Axes>"
      ]
     },
     "metadata": {},
     "output_type": "display_data"
    },
    {
     "name": "stdout",
     "output_type": "stream",
     "text": [
      "              precision    recall  f1-score   support\n",
      "\n",
      "   Monkeypox       1.00      1.00      1.00       100\n",
      "      Others       1.00      1.00      1.00       100\n",
      "\n",
      "    accuracy                           1.00       200\n",
      "   macro avg       1.00      1.00      1.00       200\n",
      "weighted avg       1.00      1.00      1.00       200\n",
      "\n"
     ]
    }
   ],
   "source": [
    "\n",
    "dataset = ImageDataset(root_dir=root_dir, class_names=class_names, transform=transform)\n",
    "dataloader = DataLoader(dataset, batch_size=1, shuffle=True)\n",
    "\n",
    "# Device configuration\n",
    "device = torch.device('cuda' if torch.cuda.is_available() else 'cpu')\n",
    "model.to(device)\n",
    "\n",
    "# Testing and metrics calculation\n",
    "all_labels = []\n",
    "all_preds = []\n",
    "\n",
    "with torch.no_grad():\n",
    "    for img, label in dataloader:\n",
    "        img = img.to(device)\n",
    "        data = create_graph_data(img)\n",
    "        data = data.to(device)\n",
    "\n",
    "        output = model(data.x, data.edge_index, data.batch)\n",
    "        _, predicted = torch.max(output.data, 1)\n",
    "        class_idx = predicted.item()\n",
    "\n",
    "        all_labels.append(label.item())\n",
    "        all_preds.append(class_idx)\n",
    "\n",
    "# Calculate accuracy\n",
    "accuracy = accuracy_score(all_labels, all_preds)\n",
    "print(f'Overall Accuracy: {accuracy:.2f}')\n",
    "\n",
    "# Confusion matrix\n",
    "cm = confusion_matrix(all_labels, all_preds)\n",
    "sns.heatmap(cm, annot=True, fmt=\"d\", cmap=\"Blues\", xticklabels=class_names, yticklabels=class_names)\n",
    "plt.ylabel('True Label')\n",
    "plt.xlabel('Predicted Label')\n",
    "plt.title('Test Confusion Matrix')\n",
    "plt.show()\n",
    "\n",
    "# Classification report\n",
    "print(classification_report(all_labels, all_preds, target_names=class_names))\n"
   ]
  },
  {
   "cell_type": "code",
   "execution_count": null,
   "id": "y91cvRqALiUp",
   "metadata": {
    "id": "y91cvRqALiUp"
   },
   "outputs": [],
   "source": []
  }
 ],
 "metadata": {
  "accelerator": "GPU",
  "colab": {
   "gpuType": "T4",
   "provenance": []
  },
  "kernelspec": {
   "display_name": "Cuda",
   "language": "python",
   "name": "cuda"
  },
  "language_info": {
   "codemirror_mode": {
    "name": "ipython",
    "version": 3
   },
   "file_extension": ".py",
   "mimetype": "text/x-python",
   "name": "python",
   "nbconvert_exporter": "python",
   "pygments_lexer": "ipython3",
   "version": "3.12.4"
  }
 },
 "nbformat": 4,
 "nbformat_minor": 5
}
